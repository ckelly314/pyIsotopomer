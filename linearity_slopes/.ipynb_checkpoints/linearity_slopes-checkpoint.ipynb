{
 "cells": [
  {
   "cell_type": "markdown",
   "id": "51f25ef6",
   "metadata": {
    "id": "51f25ef6"
   },
   "source": [
    "# calculating linearity correction slopes with dummy variables\n",
    "\n",
    "After normalization to a common reference injection, data must be corrected for the effect of peak size on the measured isotope ratio. This can be accomplished by running three or more reference materials in a range of $N_2O$ concentrations.\n",
    "\n",
    "We obtain a single size correction slope from multiple reference curves, using the dummy-variable method of combining regressions outlined in [Scott et al. (2004)](https://www.sciencedirect.com/science/article/pii/S0016703703004599). For a given reference material $i$, the measured isotope ratio $y_i$ is a function of its peak area $x_j$ plus some intercept:\n",
    "\n",
    "\\begin{equation}\n",
    "    y = \\hat{\\beta}x + \\gamma_1 + \\gamma_2D_{2}+ \\gamma_3D_{3}\n",
    "\\end{equation}\n",
    "\n",
    "Where $D_2$ and $D_3$ are 'dummy variables': $D_2$ is equal to 1 for reference material 2 and is equal to 0 for reference materials 1 and 3, and $D_3$ is equal to 1 for reference material 3 and is equal to 0 for reference materials 2 and 3. $\\hat{\\beta}$, $\\gamma_2$, and $\\gamma_3$ are the regression coefficients for measured peak area and the two dummy variables, respectively, obtained by multiple linear regression. Thus, these dummy variables allow us to obtain one slope and correct for differences in intercept, with each reference material weighted by its informativeness.\n",
    "\n",
    "To normalize isotope ratio measurements to a common peak area $x_0$, we obtain a target isotope ratio $y_{0,i}$ that we would measure for reference material $i$ at peak area $x_0$:\n",
    "\n",
    "\\begin{equation*}\n",
    "    y_0 = \\hat{\\beta}x_0 + \\gamma_1 + \\gamma_2D_{2,i}+ \\gamma_3D_{3,i}\n",
    "\\end{equation*}\n",
    "\n",
    "Note that the dummy variables are still included because we are still correcting back to a  $y_{i,0}$ specific to the given reference material. To obtain the difference $y_{i,0} - y_i$ as a function of the given peak area $x$, we subtract (2) from (1), to obtain:\n",
    "\n",
    "\\begin{equation*}\n",
    "    y_{i,0} - y_{i} = \\hat{\\beta}(x_0 - x)\n",
    "\\end{equation*}\n",
    "\n",
    "or, \n",
    "\n",
    "\\begin{equation}\n",
    "    y_{0} = \\hat{\\beta}(x_0 - x) + y\n",
    "\\end{equation}\n",
    "\n",
    "...which can be applied across a range of $x_j$ to normalize a given reference material to a single peak area. Implementing this for the raw 31/30 ratio across three reference materials, we obtain a common size correction slope across three reference materials for a given isotope ratio.\n",
    "\n",
    "You can find the Google Colab version of this notebook [here](https://drive.google.com/file/d/1UDaTdhZ7X0J_mBEGIiWqeZZ9JGr6FsvO/view?usp=sharing). "
   ]
  },
  {
   "cell_type": "code",
   "execution_count": null,
   "id": "agmWHRHA0oe-",
   "metadata": {
    "id": "agmWHRHA0oe-"
   },
   "outputs": [],
   "source": [
    "%%capture\n",
    "!pip install pandas numpy scipy statsmodels matplotlib"
   ]
  },
  {
   "cell_type": "markdown",
   "id": "esR6--z-_290",
   "metadata": {
    "id": "esR6--z-_290"
   },
   "source": [
    "Then, we need to give this notebook access to Google Drive to access the data files. We'll run the cell below and follow the instructions to log in:"
   ]
  },
  {
   "cell_type": "code",
   "execution_count": null,
   "id": "-2zEh_Bb1AM6",
   "metadata": {
    "colab": {
     "base_uri": "https://localhost:8080/"
    },
    "executionInfo": {
     "elapsed": 54665,
     "status": "ok",
     "timestamp": 1657052990383,
     "user": {
      "displayName": "Colette LaMonica Kelly",
      "userId": "06875488924751676007"
     },
     "user_tz": 420
    },
    "id": "-2zEh_Bb1AM6",
    "outputId": "080bb30b-9da4-4e65-c1ac-df1e2a489467"
   },
   "outputs": [
    {
     "name": "stdout",
     "output_type": "stream",
     "text": [
      "Mounted at /content/drive/\n"
     ]
    }
   ],
   "source": [
    "from google.colab import drive\n",
    "drive.mount('/content/drive/')"
   ]
  },
  {
   "cell_type": "markdown",
   "id": "qafelwjlAL5i",
   "metadata": {
    "id": "qafelwjlAL5i"
   },
   "source": [
    "Now, _modify_ the text in quotes below, after cd, so that it reflects the name of your folder containing this notebook and your data corrections template:"
   ]
  },
  {
   "cell_type": "code",
   "execution_count": null,
   "id": "M5QbtdYBAqIX",
   "metadata": {
    "colab": {
     "base_uri": "https://localhost:8080/"
    },
    "executionInfo": {
     "elapsed": 5,
     "status": "ok",
     "timestamp": 1657052918320,
     "user": {
      "displayName": "Colette LaMonica Kelly",
      "userId": "06875488924751676007"
     },
     "user_tz": 420
    },
    "id": "M5QbtdYBAqIX",
    "outputId": "6203b239-aa7d-4928-fc0c-5c4961276b23"
   },
   "outputs": [
    {
     "name": "stdout",
     "output_type": "stream",
     "text": [
      "[Errno 2] No such file or directory: 'drive/MyDrive/N2O Research/N2O_isotopocule_data_corrections/pyisotopomer/pyisotopomer_examples/'\n",
      "/content\n"
     ]
    }
   ],
   "source": [
    "cd \"drive/MyDrive/N2O Research/N2O_isotopocule_data_corrections/pyisotopomer/pyisotopomer_examples/\""
   ]
  },
  {
   "cell_type": "markdown",
   "id": "automated-immunology",
   "metadata": {},
   "source": [
    "# user inputs\n",
    "\n",
    "Modify the following inputs:\n",
    " - \"filename\" should reflect the name of linearity corrections template\n",
    " - \"standard1\" should reflect the name of your first reference material, as written in the \"ref_tag\" column of the template\n",
    " - ...and likewise for \"standard2\" and \"standard3\""
   ]
  },
  {
   "cell_type": "code",
   "execution_count": 28,
   "id": "wound-cleaning",
   "metadata": {},
   "outputs": [],
   "source": [
    "###################\n",
    "### USER INPUTS ###\n",
    "###################\n",
    "\n",
    "filename = \"linearity_template.xlsx\" # linearity corrections template\n",
    "standard1 = \"STD1\" # name of ref. #1, as written in the \"ref_tag\" column of the template\n",
    "standard2 = \"STD2\" # name of ref. #2, as written in the \"ref_tag\" column of the template\n",
    "standard3 = \"STD3\" # name of ref. #3, as written in the \"ref_tag\" column of the template"
   ]
  },
  {
   "cell_type": "markdown",
   "id": "upset-sugar",
   "metadata": {},
   "source": [
    "# no need to modify below this line\n",
    "\n",
    "(Unless you are working with less than or more than 3 reference materials)"
   ]
  },
  {
   "cell_type": "code",
   "execution_count": 21,
   "id": "7342f025",
   "metadata": {
    "id": "7342f025"
   },
   "outputs": [],
   "source": [
    "#######################\n",
    "### IMPORT PACKAGES ###\n",
    "#######################\n",
    "\n",
    "import pandas as pd # Pandas handles reading in data\n",
    "import matplotlib.pylab as plt # for plotting\n",
    "import numpy as np # for arrays\n",
    "\n",
    "import statsmodels.api as sm # use statsmodels for regression and regression error\n",
    "from statsmodels.sandbox.regression.predstd import wls_prediction_std\n",
    "%matplotlib inline"
   ]
  },
  {
   "cell_type": "code",
   "execution_count": 30,
   "id": "minus-somewhere",
   "metadata": {},
   "outputs": [],
   "source": [
    "####################\n",
    "### READ IN DATA ###\n",
    "####################\n",
    "\n",
    "# read in data\n",
    "data = pd.read_excel(filename,\n",
    "             'python_input', usecols = list(range(11)))\n",
    "\n",
    "# reassign column names for ease of reference\n",
    "data = data.rename(columns = {'Area 44':'A44',\n",
    "                             'raw 31rR/31rR':'r31',\n",
    "                             'raw 45rR/45rR':'r45',\n",
    "                             'raw 46rR/46rR':'r46'})\n",
    "# remove flagged samples\n",
    "data = data[data.Flag!=4]\n",
    "\n",
    "# separate out data for each reference material\n",
    "ind1 = [index for index in data.index if data.loc[index]['ref_tag']==standard1]\n",
    "stnd1 = data.loc[ind1]\n",
    "ind2 = [index for index in data.index if data.loc[index]['ref_tag']==standard2]\n",
    "stnd2 = data.loc[ind2]\n",
    "ind3 = [index for index in data.index if data.loc[index]['ref_tag']==standard3]\n",
    "stnd3 = data.loc[ind3]\n",
    "\n",
    "stnd1['STND_ID'] = 'STD1'\n",
    "stnd2['STND_ID'] = 'STD2'\n",
    "stnd3['STND_ID'] = 'STD3'"
   ]
  },
  {
   "cell_type": "code",
   "execution_count": 31,
   "id": "dependent-butler",
   "metadata": {},
   "outputs": [
    {
     "name": "stdout",
     "output_type": "stream",
     "text": [
      "31                             OLS Regression Results                            \n",
      "==============================================================================\n",
      "Dep. Variable:                    r31   R-squared:                       0.996\n",
      "Model:                            OLS   Adj. R-squared:                  0.995\n",
      "Method:                 Least Squares   F-statistic:                     3578.\n",
      "Date:                Mon, 08 Aug 2022   Prob (F-statistic):           1.86e-55\n",
      "Time:                        15:43:39   Log-Likelihood:                 277.96\n",
      "No. Observations:                  51   AIC:                            -547.9\n",
      "Df Residuals:                      47   BIC:                            -540.2\n",
      "Df Model:                           3                                         \n",
      "Covariance Type:            nonrobust                                         \n",
      "==============================================================================\n",
      "                 coef    std err          t      P>|t|      [0.025      0.975]\n",
      "------------------------------------------------------------------------------\n",
      "Intercept      0.9794      0.000   3345.997      0.000       0.979       0.980\n",
      "A44         2.176e-05   9.62e-06      2.261      0.028     2.4e-06    4.11e-05\n",
      "D2             0.0304      0.000     83.933      0.000       0.030       0.031\n",
      "D3             0.0344      0.000     91.534      0.000       0.034       0.035\n",
      "==============================================================================\n",
      "Omnibus:                       15.320   Durbin-Watson:                   1.118\n",
      "Prob(Omnibus):                  0.000   Jarque-Bera (JB):               19.995\n",
      "Skew:                           1.050   Prob(JB):                     4.55e-05\n",
      "Kurtosis:                       5.237   Cond. No.                         77.1\n",
      "==============================================================================\n",
      "\n",
      "Notes:\n",
      "[1] Standard Errors assume that the covariance matrix of the errors is correctly specified. \n",
      "\n",
      "\n",
      "\n",
      "45                             OLS Regression Results                            \n",
      "==============================================================================\n",
      "Dep. Variable:                    r45   R-squared:                       0.999\n",
      "Model:                            OLS   Adj. R-squared:                  0.999\n",
      "Method:                 Least Squares   F-statistic:                 2.073e+04\n",
      "Date:                Mon, 08 Aug 2022   Prob (F-statistic):           2.38e-73\n",
      "Time:                        15:43:39   Log-Likelihood:                 285.73\n",
      "No. Observations:                  51   AIC:                            -563.5\n",
      "Df Residuals:                      47   BIC:                            -555.7\n",
      "Df Model:                           3                                         \n",
      "Covariance Type:            nonrobust                                         \n",
      "==============================================================================\n",
      "                 coef    std err          t      P>|t|      [0.025      0.975]\n",
      "------------------------------------------------------------------------------\n",
      "Intercept      0.9667      0.000   3846.446      0.000       0.966       0.967\n",
      "A44          -2.8e-10   8.26e-06  -3.39e-05      1.000   -1.66e-05    1.66e-05\n",
      "D2             0.0773      0.000    248.898      0.000       0.077       0.078\n",
      "D3             0.0396      0.000    122.779      0.000       0.039       0.040\n",
      "==============================================================================\n",
      "Omnibus:                       13.229   Durbin-Watson:                   1.538\n",
      "Prob(Omnibus):                  0.001   Jarque-Bera (JB):               25.465\n",
      "Skew:                          -0.662   Prob(JB):                     2.95e-06\n",
      "Kurtosis:                       6.199   Cond. No.                         77.1\n",
      "==============================================================================\n",
      "\n",
      "Notes:\n",
      "[1] Standard Errors assume that the covariance matrix of the errors is correctly specified. \n",
      "\n",
      "\n",
      "\n",
      "46                             OLS Regression Results                            \n",
      "==============================================================================\n",
      "Dep. Variable:                    r46   R-squared:                       0.976\n",
      "Model:                            OLS   Adj. R-squared:                  0.974\n",
      "Method:                 Least Squares   F-statistic:                     635.3\n",
      "Date:                Mon, 08 Aug 2022   Prob (F-statistic):           5.04e-38\n",
      "Time:                        15:43:39   Log-Likelihood:                 296.55\n",
      "No. Observations:                  51   AIC:                            -585.1\n",
      "Df Residuals:                      47   BIC:                            -577.4\n",
      "Df Model:                           3                                         \n",
      "Covariance Type:            nonrobust                                         \n",
      "==============================================================================\n",
      "                 coef    std err          t      P>|t|      [0.025      0.975]\n",
      "------------------------------------------------------------------------------\n",
      "Intercept      0.9874      0.000   4856.820      0.000       0.987       0.988\n",
      "A44        -2.054e-05   6.68e-06     -3.073      0.004    -3.4e-05   -7.09e-06\n",
      "D2             0.0101      0.000     40.113      0.000       0.010       0.011\n",
      "D3             0.0088      0.000     33.698      0.000       0.008       0.009\n",
      "==============================================================================\n",
      "Omnibus:                       14.818   Durbin-Watson:                   2.086\n",
      "Prob(Omnibus):                  0.001   Jarque-Bera (JB):               17.861\n",
      "Skew:                           1.079   Prob(JB):                     0.000132\n",
      "Kurtosis:                       4.936   Cond. No.                         77.1\n",
      "==============================================================================\n",
      "\n",
      "Notes:\n",
      "[1] Standard Errors assume that the covariance matrix of the errors is correctly specified. \n",
      "\n",
      "\n",
      "\n"
     ]
    },
    {
     "data": {
      "image/png": "[encoded data removed]",
      "text/plain": [
       "<Figure size 432x288 with 1 Axes>"
      ]
     },
     "metadata": {
      "needs_background": "light"
     },
     "output_type": "display_data"
    },
    {
     "data": {
      "image/png": "[encoded data removed]",
      "text/plain": [
       "<Figure size 432x288 with 1 Axes>"
      ]
     },
     "metadata": {
      "needs_background": "light"
     },
     "output_type": "display_data"
    },
    {
     "data": {
      "image/png": "[encoded data removed]",
      "text/plain": [
       "<Figure size 432x288 with 1 Axes>"
      ]
     },
     "metadata": {
      "needs_background": "light"
     },
     "output_type": "display_data"
    }
   ],
   "source": [
    "########################################\n",
    "### CALCUATE REGRESSION COEFFICIENTS ###\n",
    "########################################\n",
    "\n",
    "\n",
    "### ASSIGN DUMMY VARIABLES ###\n",
    "\n",
    "# the \"D2\" dummy variable accounts for the difference in intercept between ref #1 and ref #2\n",
    "stnd1['D2'] = 0\n",
    "stnd2['D2'] = 1\n",
    "stnd3['D2'] = 0\n",
    "\n",
    "# the \"D3\" dummy variable accounts for the difference in intercept between ref #1 and ref #3\n",
    "stnd1['D3'] = 0\n",
    "stnd2['D3'] = 0\n",
    "stnd3['D3'] = 1\n",
    "\n",
    "# YOU WILL NEED TO ADD ADDITIONAL DUMMY VARIABLES FOR ADDITIONAL REFERENCE MATERIALS\n",
    "\n",
    "stnd1['color'] = 1 # add a \"color\" column to ref. dataframes for plotting\n",
    "stnd2['color'] = 2\n",
    "stnd3['color'] = 3\n",
    "\n",
    "dummydf = pd.concat([stnd1, stnd2, stnd3]) # combine data from each reference material once dummy variables have been assigned\n",
    "\n",
    "regression_data = pd.DataFrame([]) # we'll store the regression slopes, slope errors, etc. in this dataframe\n",
    "\n",
    "### SET UP REGRESSION ###\n",
    "\n",
    "strarray = np.array([['31','45','46'],\n",
    "                     ['raw 45rR/45rR','raw 46rR/46rR','raw 31rR/31rR']])\n",
    "\n",
    "for i in list(range(3)): # loop through each isotope ratio and calculate MLR\n",
    "\n",
    "    formula = 'r%s~A44+D2+D3'%strarray[0,i] # slope will be a function of peak area + each dummy variable\n",
    "    model=sm.formula.ols(formula=formula,data=dummydf) # set up ordinary least squares multiple linear regression model\n",
    "    results=model.fit() # calculate regression parameters\n",
    "    \n",
    "    b0, b1, b2, b3 = results.params # get slope and intercept\n",
    "    b0err, b1err, b2err, b3err = results.bse # get standard error of the slope and intercept\n",
    "    count = len(dummydf) # count\n",
    "    steyx = np.sqrt(results.mse_resid) # standard error of the predicted y-value for each x in the regression\n",
    "    xerr = dummydf.A44.std() # standard deviation of the x values\n",
    "    regression_data = regression_data.append(pd.DataFrame([['r%s'%strarray[0,i],b1,b1err, # store regression data\n",
    "                                                           b0,b2,b3,count,steyx,xerr]]))\n",
    "    \n",
    "    print(strarray[0,i],results.summary(),'\\n\\n\\n') # print out regression data\n",
    "\n",
    "    predict_col = 'predict%s'%strarray[0,i] # create column name for isotope ratio predicted from MLR\n",
    "    plot_col = 'r%s'%strarray[0,i]\n",
    "\n",
    "    # compute predicted isotope ratio from regression slope, peak area, and dummy variables\n",
    "    dummydf[predict_col] = np.dot(results.params[1:],dummydf[['A44','D2','D3']].transpose())+results.params[0]\n",
    "    \n",
    "\n",
    "    #plot actual vs. predicted raw ratios:\n",
    "    \n",
    "    fig, ax = plt.subplots()\n",
    "    ax.scatter(dummydf[plot_col],dummydf[predict_col], c=dummydf.color)\n",
    "    ax.set_xlabel('Actual r%s'%strarray[0,i])\n",
    "    ax.set_ylabel('Predicted r%s'%strarray[0,i])   \n",
    "\n",
    "\n",
    "# name columns for dataframe containing regression data\n",
    "regression_data = regression_data.rename(columns = {0:'raw_ratio',\n",
    "                                                   1:'size_crxn_slope',\n",
    "                                                   2:'slope_error',\n",
    "                                                   3:'y1', 4:'y2', 5:'y3',\n",
    "                                                   6:'COUNT',7:'STEYX',8:'XERR'})\n",
    "regression_data.set_index('raw_ratio', inplace=True)\n",
    "\n",
    "regression_data.to_excel('python_output/regression_data.xlsx') # saveout regression data\n",
    "\n",
    "dummydf['r31_size_corrected'] = regression_data.loc['r31'][0]*(20-dummydf.A44)+dummydf['r31']\n",
    "dummydf['r45_size_corrected'] = regression_data.loc['r45'][0]*(20-dummydf.A44)+dummydf['r45']\n",
    "dummydf['r46_size_corrected'] = regression_data.loc['r46'][0]*(20-dummydf.A44)+dummydf['r46']"
   ]
  },
  {
   "cell_type": "code",
   "execution_count": 32,
   "id": "yellow-modern",
   "metadata": {},
   "outputs": [
    {
     "name": "stdout",
     "output_type": "stream",
     "text": [
      "\n",
      "    Size correction for raw 31R/31R.\n",
      "    Measured 31R isotope ratio, normalized against a common reference injection, for reference materials 'STD1' (blue circles), 'STD2' (orange), and 'STD3' (green), across a range of peak areas.\n",
      "    Mean size-corrected values (diamonds; error bars=1 SD) are obtained from a common size correction slope (black lines).\n",
      "    \n"
     ]
    },
    {
     "data": {
      "image/png": "[encoded data removed]",
      "text/plain": [
       "<Figure size 216x216 with 1 Axes>"
      ]
     },
     "metadata": {
      "needs_background": "light"
     },
     "output_type": "display_data"
    }
   ],
   "source": [
    "#####################\n",
    "### PLOT 31R DATA ###\n",
    "#####################\n",
    "fig, ax = plt.subplots(1,1, figsize=(3,3))\n",
    "\n",
    "df_labels = ['STD1', 'STD2', 'STD3']\n",
    "ylabels = ['raw 31rR/31rR','raw 45rR/45rR','raw 46rR/46rR']\n",
    "\n",
    "for df in df_labels:\n",
    "    \n",
    "    # scatter actual data\n",
    "    ax.scatter(dummydf[dummydf.STND_ID==df].A44, dummydf[dummydf.STND_ID==df].r31, label=df)\n",
    "    \n",
    "    # expected value at 20 Vs peak area\n",
    "    ax.errorbar(20, dummydf[dummydf.STND_ID==df].r31_size_corrected.mean(),\n",
    "               yerr=dummydf[dummydf.STND_ID==df].r31_size_corrected.std(),\n",
    "               marker='d', capsize=10, label=None)\n",
    "    \n",
    "    # MLR line with dummy variables\n",
    "    x = np.linspace(0, dummydf.A44.max())\n",
    "    ax.plot(x, (x*regression_data.loc['r31','size_crxn_slope'] +\n",
    "           regression_data.loc['r31','y1'] +\n",
    "           regression_data.loc['r31','y2']*dummydf[dummydf.STND_ID==df].D2.mean() +\n",
    "           regression_data.loc['r31','y3']*dummydf[dummydf.STND_ID==df].D3.mean()),\n",
    "            color='k', label=None)\n",
    "    \n",
    "    if df=='STD3':\n",
    "        ax.legend(loc=4)\n",
    "        ax.text(0.05, 0.6, r'$y=\\^{\\beta}x+\\gamma_1+\\gamma_2D_2+\\gamma_3D_3$',\n",
    "               fontsize=10,fontweight='bold',verticalalignment='top',\n",
    "                transform=ax.transAxes)\n",
    "        #ax.set_ylim([0.97,1.05])\n",
    "        ax.set_ylabel('raw 31rR/31rR')\n",
    "        ax.set_xlabel('Area 44 (Vs)')\n",
    "\n",
    "ax.set_title('31R linearity relation')\n",
    "plt.tight_layout()\n",
    "plt.savefig('python_output/31R linearity relation.pdf')\n",
    "\n",
    "print(\n",
    "    \"\"\"\n",
    "    Size correction for raw 31R/31R.\n",
    "    Measured 31R isotope ratio, normalized against a common reference injection, for reference materials 'STD1' (blue circles), 'STD2' (orange), and 'STD3' (green), across a range of peak areas.\n",
    "    Mean size-corrected values (diamonds; error bars=1 SD) are obtained from a common size correction slope (black lines).\n",
    "    \"\"\")"
   ]
  },
  {
   "cell_type": "code",
   "execution_count": 33,
   "id": "fatal-major",
   "metadata": {},
   "outputs": [
    {
     "name": "stdout",
     "output_type": "stream",
     "text": [
      "\n",
      "    Size correction for raw 45R/45R.\n",
      "    Measured 45R isotope ratio, normalized against a common reference injection, for reference materials 'STD1' (blue circles), 'STD2' (orange), and 'STD3' (green), across a range of peak areas.\n",
      "    Mean size-corrected values (diamonds; error bars=1 SD) are obtained from a common size correction slope (black lines).\n",
      "    \n"
     ]
    },
    {
     "data": {
      "image/png": "[encoded data removed]",
      "text/plain": [
       "<Figure size 216x216 with 1 Axes>"
      ]
     },
     "metadata": {
      "needs_background": "light"
     },
     "output_type": "display_data"
    }
   ],
   "source": [
    "#####################\n",
    "### PLOT 45R DATA ###\n",
    "#####################\n",
    "fig, ax = plt.subplots(1,1, figsize=(3,3))\n",
    "\n",
    "df_labels = ['STD1', 'STD2', 'STD3']\n",
    "ylabels = ['raw 31rR/31rR','raw 45rR/45rR','raw 46rR/46rR']\n",
    "\n",
    "for df in df_labels:\n",
    "    \n",
    "    # scatter actual data\n",
    "    ax.scatter(dummydf[dummydf.STND_ID==df].A44, dummydf[dummydf.STND_ID==df].r45, label=df)\n",
    "    \n",
    "    # expected value at 20 Vs peak area\n",
    "    ax.errorbar(20, dummydf[dummydf.STND_ID==df].r45_size_corrected.mean(),\n",
    "               yerr=dummydf[dummydf.STND_ID==df].r45_size_corrected.std(),\n",
    "               marker='d', capsize=10, label=None)\n",
    "    \n",
    "    # MLR line with dummy variables\n",
    "    x = np.linspace(0, dummydf.A44.max())\n",
    "    ax.plot(x, (x*regression_data.loc['r45','size_crxn_slope'] +\n",
    "           regression_data.loc['r45','y1'] +\n",
    "           regression_data.loc['r45','y2']*dummydf[dummydf.STND_ID==df].D2.mean() +\n",
    "           regression_data.loc['r45','y3']*dummydf[dummydf.STND_ID==df].D3.mean()),\n",
    "            color='k', label=None)\n",
    "    \n",
    "    if df=='STD3':\n",
    "        ax.legend(loc=4)\n",
    "        ax.text(0.05, 0.8, r'$y=\\^{\\beta}x+\\gamma_1+\\gamma_2D_2+\\gamma_3D_3$',\n",
    "               fontsize=10,fontweight='bold',verticalalignment='top',\n",
    "                transform=ax.transAxes)\n",
    "        #ax.set_ylim([0.97,1.05])\n",
    "        ax.set_ylabel('raw 45rR/45rR')\n",
    "        ax.set_xlabel('Area 44 (Vs)')\n",
    "\n",
    "ax.set_title('45R linearity relation')\n",
    "plt.tight_layout()\n",
    "plt.savefig('python_output/45R linearity relation.pdf')\n",
    "\n",
    "print(\n",
    "    \"\"\"\n",
    "    Size correction for raw 45R/45R.\n",
    "    Measured 45R isotope ratio, normalized against a common reference injection, for reference materials 'STD1' (blue circles), 'STD2' (orange), and 'STD3' (green), across a range of peak areas.\n",
    "    Mean size-corrected values (diamonds; error bars=1 SD) are obtained from a common size correction slope (black lines).\n",
    "    \"\"\")"
   ]
  },
  {
   "cell_type": "code",
   "execution_count": 35,
   "id": "peaceful-biodiversity",
   "metadata": {},
   "outputs": [
    {
     "name": "stdout",
     "output_type": "stream",
     "text": [
      "\n",
      "    Size correction for raw 46R/46R.\n",
      "    Measured 31R isotope ratio, normalized against a common reference injection, for reference materials 'STD1' (blue circles), 'STD2' (orange), and 'STD3' (green), across a range of peak areas.\n",
      "    Mean size-corrected values (diamonds; error bars=1 SD) are obtained from a common size correction slope (black lines).\n",
      "    \n"
     ]
    },
    {
     "data": {
      "image/png": "[encoded data removed]",
      "text/plain": [
       "<Figure size 216x216 with 1 Axes>"
      ]
     },
     "metadata": {
      "needs_background": "light"
     },
     "output_type": "display_data"
    }
   ],
   "source": [
    "#####################\n",
    "### PLOT 46R DATA ###\n",
    "#####################\n",
    "fig, ax = plt.subplots(1,1, figsize=(3,3))\n",
    "\n",
    "df_labels = ['STD1', 'STD2', 'STD3']\n",
    "ylabels = ['raw 31rR/31rR','raw 46rR/46rR','raw 46rR/46rR']\n",
    "\n",
    "for df in df_labels:\n",
    "    \n",
    "    # scatter actual data\n",
    "    ax.scatter(dummydf[dummydf.STND_ID==df].A44, dummydf[dummydf.STND_ID==df].r46, label=df)\n",
    "    \n",
    "    # expected value at 20 Vs peak area\n",
    "    ax.errorbar(20, dummydf[dummydf.STND_ID==df].r46_size_corrected.mean(),\n",
    "               yerr=dummydf[dummydf.STND_ID==df].r46_size_corrected.std(),\n",
    "               marker='d', capsize=10, label=None)\n",
    "    \n",
    "    # MLR line with dummy variables\n",
    "    x = np.linspace(0, dummydf.A44.max())\n",
    "    ax.plot(x, (x*regression_data.loc['r46','size_crxn_slope'] +\n",
    "           regression_data.loc['r46','y1'] +\n",
    "           regression_data.loc['r46','y2']*dummydf[dummydf.STND_ID==df].D2.mean() +\n",
    "           regression_data.loc['r46','y3']*dummydf[dummydf.STND_ID==df].D3.mean()),\n",
    "            color='k', label=None)\n",
    "    \n",
    "    if df=='STD3':\n",
    "        ax.legend(loc=4)\n",
    "        ax.text(0.05, 0.55, r'$y=\\^{\\beta}x+\\gamma_1+\\gamma_2D_2+\\gamma_3D_3$',\n",
    "               fontsize=10,fontweight='bold',verticalalignment='top',\n",
    "                transform=ax.transAxes)\n",
    "        #ax.set_ylim([0.97,1.05])\n",
    "        ax.set_ylabel('raw 46rR/46rR')\n",
    "        ax.set_xlabel('Area 44 (Vs)')\n",
    "\n",
    "ax.set_title('46R linearity relation')\n",
    "plt.tight_layout()\n",
    "plt.savefig('python_output/46R linearity relation.pdf')\n",
    "print(\n",
    "    \"\"\"\n",
    "    Size correction for raw 46R/46R.\n",
    "    Measured 31R isotope ratio, normalized against a common reference injection, for reference materials 'STD1' (blue circles), 'STD2' (orange), and 'STD3' (green), across a range of peak areas.\n",
    "    Mean size-corrected values (diamonds; error bars=1 SD) are obtained from a common size correction slope (black lines).\n",
    "    \"\"\")"
   ]
  },
  {
   "cell_type": "code",
   "execution_count": null,
   "id": "greatest-pregnancy",
   "metadata": {},
   "outputs": [],
   "source": []
  }
 ],
 "metadata": {
  "colab": {
   "collapsed_sections": [],
   "name": "run_pyisotopomer.ipynb",
   "provenance": []
  },
  "kernelspec": {
   "display_name": "Python 3",
   "language": "python",
   "name": "python3"
  },
  "language_info": {
   "codemirror_mode": {
    "name": "ipython",
    "version": 3
   },
   "file_extension": ".py",
   "mimetype": "text/x-python",
   "name": "python",
   "nbconvert_exporter": "python",
   "pygments_lexer": "ipython3",
   "version": "3.9.2"
  }
 },
 "nbformat": 4,
 "nbformat_minor": 5
}
