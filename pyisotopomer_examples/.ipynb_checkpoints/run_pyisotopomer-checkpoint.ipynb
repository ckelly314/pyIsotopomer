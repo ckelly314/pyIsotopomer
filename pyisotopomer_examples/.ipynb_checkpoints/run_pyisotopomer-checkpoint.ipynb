{
 "cells": [
  {
   "cell_type": "markdown",
   "id": "51f25ef6",
   "metadata": {
    "id": "51f25ef6"
   },
   "source": [
    "# pyisotopomer\n",
    "\n",
    "pyisotopomer is a Python toolbox for performing data corrections for N2O isotopomer data. Its core is a package of scripts to correct for scrambling in the ion source during isotope ratio mass spectrometry.\n",
    "\n",
    "The import convention for pyisotopomer is (hold down shift-enter to run the cell):"
   ]
  },
  {
   "cell_type": "code",
   "execution_count": 4,
   "id": "117123db",
   "metadata": {
    "id": "117123db"
   },
   "outputs": [],
   "source": [
    "from pyisotopomer import Scrambling, Isotopomers"
   ]
  },
  {
   "cell_type": "markdown",
   "id": "4a6baf21",
   "metadata": {
    "id": "4a6baf21"
   },
   "source": [
    "# Scrambling calibration\n",
    "\n",
    "Here, two coefficients, γ and κ, are used to describe scrambling in the ion source. This is described in further detail in [Frame and Casciotti, 2010](https://www.biogeosciences.net/7/2695/2010/). Below is a description of how to calculate these coefficients in pyisotopomer.\n",
    "\n",
    "Download [constants.csv](https://drive.google.com/file/d/1hrllkbP2ywSr-BHP93C0DQpUVKVOLX5b/view?usp=sharing).\n",
    "\n",
    "Open ```constants.csv```. Here, we specify the calibrated isotope ratios of named reference materials. If the reference materials to be used to calibrate scrambling are not in this list, add them, following the format of the existing lines. Save ```constants.csv``` into your current working directory.\n",
    "\n",
    "Run two (or more) reference gases with known <sup>15</sup>R-α and <sup>15</sup>R-β, prepared in the same format as samples. For the Casciotti lab, this is some amount of N<sub>2</sub>O reference gas injected into a bottle of seawater or DI water that has been purged with He or N2 gas.\n",
    "\n",
    "Export, size-correct, and scale-normalize these data in the excel correction template, as as described in the pyisotopomer [README](https://github.com/ckelly314/pyisotopomer).\n",
    "\n",
    "To mark which rows of the correction template represent reference materials, in column B \"ref_tag\", add the names of the reference materials, as they appear in ```constants.csv```. For example, here, atmosphere-equilibrated seawater is named \"ATM\" and is marked as such in the \"ref_tag\" column.\n",
    "\n",
    "DO NOT MODIFY COLUMN HEADERS IN THE CORRECTION TEMPLATE. Save the correction template into your current working directory.\n",
    "\n",
    "### Choice of Method\n",
    "\n",
    "Pyisotopomer contains two methods for the calculation of γ and κ: a direct calculation of γ and κ based on the algebraic re-arrangement of the equation for <sup>31</sup>R, and a least-squares solver method. Given the right reference materials, it is not necessary to use a numerical algorithm to solve for γ and κ; algebraic manipulations can provide exact and unique solutions for each coefficient. This algebraic solution is the default method of calculation of γ and κ in pyisotopomer. It should be noted that this algebraic solution produces consistent results only when the site preferences of the two reference materials used in the calculation are sufficiently distinct — otherwise, it will return values of γ and κ that vary widely and may not fall in the range of plausible values (i.e., they are either negative or greater than one).\n",
    "\n",
    "In the event that the user has yet to obtain reference materials that are different enough in their site preferences to produce consistent results with the algebraic method, the least squares approach can be used as a temporary alternative, with the following caveats and modifications:\n",
    " - The least squares solver finds a local minimum close to the initial guess for γ and κ. As such, if the solver is fed an initial guess other than the absolute minimum calculated from the algebraic solution, it will find the “wrong” scrambling coefficients.\n",
    " - Using these “wrong” scrambling coefficients is OK if your unknowns are close in their delta values to those of the reference materials, but will have a deleterious effect as the unknowns diverge in their isotopomer values from the reference materials.\n",
    " - If the least squares solver is fed the correct γ and κ as an initial guess, it will converge on that solution — although this is still not as robust as simply running reference materials of sufficiently distinct site preferences and calculating γ and κ algebraically.\n",
    " \n",
    "The algebraic method is the default and does not require any modifications to the call to the Scrambling function. To change to the least squares method, specify it with the \"method\" keyword argument. If you have an _a priori_ initial guess for γ and κ, enter it using the \"initialguess\" keyword argument.\n",
    "\n",
    "To calculate scrambling with the algebraic method, modify the \"inputfile\" keyword to reflect the name of your excel data corrections spreadsheet, then run the cell below by pressing shift-enter:"
   ]
  },
  {
   "cell_type": "code",
   "execution_count": 20,
   "id": "6adc8c87",
   "metadata": {
    "id": "6adc8c87",
    "outputId": "0fb48c10-7c1b-434c-b46d-06cdcd10efc2"
   },
   "outputs": [
    {
     "name": "stdout",
     "output_type": "stream",
     "text": [
      "output saved as 220627_scrambling_output.xlsx\n",
      "Difference in reference materials SPs may be too small for consistent results with the algebraic method.\n",
      "Try setting method='least_squares'\n",
      "SP1 - SP2 = 18.68 per mille\n",
      "Difference in reference materials SPs may be too small for consistent results with the algebraic method.\n",
      "Try setting method='least_squares'\n",
      "SP1 - SP2 = 19.26 per mille\n",
      "Difference in reference materials SPs may be too small for consistent results with the algebraic method.\n",
      "Try setting method='least_squares'\n",
      "SP1 - SP2 = 0.58 per mille\n"
     ]
    },
    {
     "data": {
      "text/plain": [
       "<Gamma: 1.2, Kappa: 1.127>"
      ]
     },
     "execution_count": 20,
     "metadata": {},
     "output_type": "execute_result"
    }
   ],
   "source": [
    "Scrambling(inputfile=\"00_Python_template_v2.xlsx\")"
   ]
  },
  {
   "cell_type": "markdown",
   "id": "mental-stress",
   "metadata": {},
   "source": [
    "To calculate scrambling with the least squares method, modify the \"inputfile\" keyword to reflect the name of your excel data corrections spreadsheet, set the method to \"least_squares\", and enter an initial guess for gamma and kappa (format [gamma, kappa]). Run the cell below by pressing shift-enter:"
   ]
  },
  {
   "cell_type": "code",
   "execution_count": 21,
   "id": "economic-terry",
   "metadata": {},
   "outputs": [
    {
     "name": "stdout",
     "output_type": "stream",
     "text": [
      "output saved as 220627_scrambling_output.xlsx\n"
     ]
    },
    {
     "data": {
      "text/plain": [
       "<Gamma: 0.1723, Kappa: 0.07975>"
      ]
     },
     "execution_count": 21,
     "metadata": {},
     "output_type": "execute_result"
    }
   ],
   "source": [
    "Scrambling(inputfile=\"00_Python_template_v2.xlsx\", method=\"least_squares\",\n",
    "          initialguess=[0.17, 0.08])"
   ]
  },
  {
   "cell_type": "markdown",
   "id": "chicken-summit",
   "metadata": {},
   "source": [
    "The Scrambling function will create an output file entitled ```{date}_scrambling_output.xlsx``` with scrambling output, similar to this [example spreadsheet](https://github.com/ckelly314/pyisotopomer/blob/master/tests/example_scrambling_output.xlsx). The Scrambling function will also output two .csv files containing intermediate data products: [normalized_ratios.csv](https://github.com/ckelly314/pyisotopomer/blob/master/src/normalized_ratios.csv) contains the <sup>15</sup>R<sup>bulk</sup>, <sup>17</sup>R, and <sup>18</sup>R that pyisotopomer calculated from the normalized <sup>45</sup>R and <sup>46</sup>R of each reference material, and [normalized_deltas.csv](https://github.com/ckelly314/pyisotopomer/blob/master/src/normalized_deltas.csv) contains the equivalent delta values. You can copy the values from \"normalized_deltas.csv\" into rows AT-AV of the excel template. If the scale normalization was effective, the δ<sup>15</sup>N<sup>bulk</sup> and δ<sup>18</sup>O of each reference material should be close to their calibrated values."
   ]
  },
  {
   "cell_type": "markdown",
   "id": "b15cd805",
   "metadata": {
    "id": "b15cd805"
   },
   "source": [
    "# Calculating isotopomers\n",
    "\n",
    "Size-correct your data (including all samples and standards), as as described in the pyisotopomer [README](https://github.com/ckelly314/pyisotopomer). Enter the appropriate γ and κ in rows AO-AP of the excel template. These should be a running average of γ and κ, calculated using a window of \\~10 reference material pairings (see below).\n",
    "\n",
    "DO NOT MODIFY COLUMN HEADERS IN THE CORRECTION TEMPLATE. Save the correction template into your current working directory.\n",
    "\n",
    "### How to think about scrambling when calculating isotopomers\n",
    "\n",
    "You will need to enter the appropriate scrambling coefficients in the excel template. These scrambling coefficients should represent a running average of γ and κ calculated from at least 10 pairings of reference materials (e.g. a week's worth, if unknowns are bookended by reference materials) run alongside unknowns. This is because a small standard deviation in the scrambling coefficients can lead to a large error in site preference, so it is advisable to run sufficient reference materials to bring down the standard deviation of γ and κ.\n",
    "\n",
    "To calculate isotopomers, modify the \"inputfile\" keyword to reflect the name of your excel data corrections spreadsheet, then run the cell below by pressing shift-enter:"
   ]
  },
  {
   "cell_type": "code",
   "execution_count": 22,
   "id": "5c4665d6",
   "metadata": {
    "id": "5c4665d6",
    "outputId": "6b41d427-6f9a-445e-e8f8-d3a9f2a7a0d5"
   },
   "outputs": [
    {
     "name": "stdout",
     "output_type": "stream",
     "text": [
      "output saved as 220627_isotopeoutput.csv\n"
     ]
    },
    {
     "data": {
      "text/plain": [
       "< First row:\n",
       "d15Na: 15.11\n",
       "d15Nb: -2.71\n",
       "d15Nbulk: 6.198\n",
       "SP: 17.82\n",
       "d18O: 47.05>\n",
       "                "
      ]
     },
     "execution_count": 22,
     "metadata": {},
     "output_type": "execute_result"
    }
   ],
   "source": [
    "Isotopomers(inputfile = \"00_Python_template_v2.xlsx\")  "
   ]
  },
  {
   "cell_type": "markdown",
   "id": "pacific-filename",
   "metadata": {},
   "source": [
    "The Isotopomers function will create an output file entitled ```{date}_isotopeoutput.csv``` with isotopocule delta values, similar to this [example spreadsheet](https://github.com/ckelly314/pyisotopomer/blob/master/tests/example_isotopomer_output.csv). Copy and paste output data back into working (size correction) spreadsheet in olive-highlighted cells (columns AX-BC)."
   ]
  },
  {
   "cell_type": "markdown",
   "id": "3f8b033f",
   "metadata": {
    "id": "3f8b033f"
   },
   "source": [
    "# Go further\n",
    "\n",
    "To learn about additional keyword arguments and different ways of accessing the outputs, run the following cells:"
   ]
  },
  {
   "cell_type": "code",
   "execution_count": 18,
   "id": "acd08191",
   "metadata": {
    "id": "acd08191"
   },
   "outputs": [],
   "source": [
    "?Scrambling"
   ]
  },
  {
   "cell_type": "code",
   "execution_count": 19,
   "id": "81b125a4",
   "metadata": {
    "id": "81b125a4"
   },
   "outputs": [],
   "source": [
    "?Isotopomers"
   ]
  },
  {
   "cell_type": "code",
   "execution_count": null,
   "id": "7342f025",
   "metadata": {
    "id": "7342f025"
   },
   "outputs": [],
   "source": []
  }
 ],
 "metadata": {
  "colab": {
   "name": "run_pyisotopomer.ipynb",
   "provenance": []
  },
  "kernelspec": {
   "display_name": "Python 3",
   "language": "python",
   "name": "python3"
  },
  "language_info": {
   "codemirror_mode": {
    "name": "ipython",
    "version": 3
   },
   "file_extension": ".py",
   "mimetype": "text/x-python",
   "name": "python",
   "nbconvert_exporter": "python",
   "pygments_lexer": "ipython3",
   "version": "3.9.2"
  }
 },
 "nbformat": 4,
 "nbformat_minor": 5
}
