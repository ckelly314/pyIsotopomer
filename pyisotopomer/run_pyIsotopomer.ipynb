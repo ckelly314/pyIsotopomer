{
 "cells": [
  {
   "cell_type": "markdown",
   "id": "51f25ef6",
   "metadata": {},
   "source": [
    "# pyisotopomer\n",
    "\n",
    "pyisotopomer is a Python toolbox for performing data corrections for N2O isotopomer data. Its core is a package of scripts to correct for scrambling in the ion source during isotope ratio mass spectrometry.\n",
    "\n",
    "# Basic use\n",
    "\n",
    "The import convention for pyIsotopomer is (hold down shift-enter to run the cell):"
   ]
  },
  {
   "cell_type": "code",
   "execution_count": 1,
   "id": "117123db",
   "metadata": {},
   "outputs": [],
   "source": [
    "from pyisotopomer import Scrambling, Isotopomers"
   ]
  },
  {
   "cell_type": "markdown",
   "id": "993534aa",
   "metadata": {},
   "source": [
    "To calculate scrambling coefficients, the only function you need is:"
   ]
  },
  {
   "cell_type": "code",
   "execution_count": 21,
   "id": "6adc8c87",
   "metadata": {},
   "outputs": [
    {
     "data": {
      "text/plain": [
       "<Gamma: 0.172, Kappa: 0.07981>"
      ]
     },
     "execution_count": 21,
     "metadata": {},
     "output_type": "execute_result"
    }
   ],
   "source": [
    "Scrambling(inputfile='example_scrambling_input.csv',\n",
    "           ref1=\"ATM\", ref2=\"S2\")"
   ]
  },
  {
   "cell_type": "code",
   "execution_count": 11,
   "id": "bff466e5",
   "metadata": {},
   "outputs": [],
   "source": [
    "gk = Scrambling(inputfile='example_isotopomer_input.csv',\n",
    "           ref1=\"ATM\", ref2=\"B6\")"
   ]
  },
  {
   "cell_type": "code",
   "execution_count": 12,
   "id": "8f9b0f13",
   "metadata": {},
   "outputs": [
    {
     "data": {
      "text/plain": [
       "gamma    0.172274\n",
       "kappa    0.079607\n",
       "dtype: float64"
      ]
     },
     "execution_count": 12,
     "metadata": {},
     "output_type": "execute_result"
    }
   ],
   "source": [
    "gk.scrambling_mean"
   ]
  },
  {
   "cell_type": "code",
   "execution_count": 10,
   "id": "1d83ed2a",
   "metadata": {},
   "outputs": [
    {
     "data": {
      "text/html": [
       "<div>\n",
       "<style scoped>\n",
       "    .dataframe tbody tr th:only-of-type {\n",
       "        vertical-align: middle;\n",
       "    }\n",
       "\n",
       "    .dataframe tbody tr th {\n",
       "        vertical-align: top;\n",
       "    }\n",
       "\n",
       "    .dataframe thead th {\n",
       "        text-align: right;\n",
       "    }\n",
       "</style>\n",
       "<table border=\"1\" class=\"dataframe\">\n",
       "  <thead>\n",
       "    <tr style=\"text-align: right;\">\n",
       "      <th></th>\n",
       "      <th>gamma</th>\n",
       "      <th>kappa</th>\n",
       "    </tr>\n",
       "  </thead>\n",
       "  <tbody>\n",
       "    <tr>\n",
       "      <th>0</th>\n",
       "      <td>0.173154</td>\n",
       "      <td>0.079699</td>\n",
       "    </tr>\n",
       "    <tr>\n",
       "      <th>0</th>\n",
       "      <td>0.173172</td>\n",
       "      <td>0.079698</td>\n",
       "    </tr>\n",
       "    <tr>\n",
       "      <th>0</th>\n",
       "      <td>0.171669</td>\n",
       "      <td>0.079832</td>\n",
       "    </tr>\n",
       "    <tr>\n",
       "      <th>0</th>\n",
       "      <td>0.171687</td>\n",
       "      <td>0.079830</td>\n",
       "    </tr>\n",
       "    <tr>\n",
       "      <th>0</th>\n",
       "      <td>0.171594</td>\n",
       "      <td>0.079843</td>\n",
       "    </tr>\n",
       "    <tr>\n",
       "      <th>0</th>\n",
       "      <td>0.171477</td>\n",
       "      <td>0.079855</td>\n",
       "    </tr>\n",
       "    <tr>\n",
       "      <th>0</th>\n",
       "      <td>0.171659</td>\n",
       "      <td>0.079838</td>\n",
       "    </tr>\n",
       "    <tr>\n",
       "      <th>0</th>\n",
       "      <td>0.171542</td>\n",
       "      <td>0.079850</td>\n",
       "    </tr>\n",
       "  </tbody>\n",
       "</table>\n",
       "</div>"
      ],
      "text/plain": [
       "      gamma     kappa\n",
       "0  0.173154  0.079699\n",
       "0  0.173172  0.079698\n",
       "0  0.171669  0.079832\n",
       "0  0.171687  0.079830\n",
       "0  0.171594  0.079843\n",
       "0  0.171477  0.079855\n",
       "0  0.171659  0.079838\n",
       "0  0.171542  0.079850"
      ]
     },
     "execution_count": 10,
     "metadata": {},
     "output_type": "execute_result"
    }
   ],
   "source": [
    "gk.scrambling"
   ]
  },
  {
   "cell_type": "code",
   "execution_count": null,
   "id": "26c918a1",
   "metadata": {},
   "outputs": [],
   "source": []
  },
  {
   "cell_type": "markdown",
   "id": "9f0b55b3",
   "metadata": {},
   "source": [
    "To calculate isotopocules, the only function you need is:"
   ]
  },
  {
   "cell_type": "code",
   "execution_count": 14,
   "id": "5c4665d6",
   "metadata": {},
   "outputs": [
    {
     "data": {
      "text/plain": [
       "< First row:\n",
       "d15Na: 14.75\n",
       "d15Nb: -3.081\n",
       "d15Nbulk: 5.837\n",
       "SP: 17.83\n",
       "d18O: 47.55>\n",
       "                "
      ]
     },
     "execution_count": 14,
     "metadata": {},
     "output_type": "execute_result"
    }
   ],
   "source": [
    "Isotopomers(inputfile = 'test_cases/labmeeting_isotopes.csv',\n",
    "            scrambling = gk.scrambling_mean)"
   ]
  },
  {
   "cell_type": "markdown",
   "id": "6803aee9",
   "metadata": {},
   "source": [
    "# View the results\n",
    "\n",
    "Your scrambling output will be automatically saved to the same directory as the input data, with the file naming convention \"YYMMDD_scramblingoutput.csv\". Likewise, your isotopocule output will be automatically saved with the file naming convention \"YYMMDD_isotopeoutput.csv\". You can also view the output of each function directly in Jupyter by running the following cells:"
   ]
  },
  {
   "cell_type": "code",
   "execution_count": 15,
   "id": "a751ef12",
   "metadata": {},
   "outputs": [
    {
     "data": {
      "text/html": [
       "<div>\n",
       "<style scoped>\n",
       "    .dataframe tbody tr th:only-of-type {\n",
       "        vertical-align: middle;\n",
       "    }\n",
       "\n",
       "    .dataframe tbody tr th {\n",
       "        vertical-align: top;\n",
       "    }\n",
       "\n",
       "    .dataframe thead th {\n",
       "        text-align: right;\n",
       "    }\n",
       "</style>\n",
       "<table border=\"1\" class=\"dataframe\">\n",
       "  <thead>\n",
       "    <tr style=\"text-align: right;\">\n",
       "      <th></th>\n",
       "      <th>gamma</th>\n",
       "      <th>kappa</th>\n",
       "    </tr>\n",
       "  </thead>\n",
       "  <tbody>\n",
       "    <tr>\n",
       "      <th>0</th>\n",
       "      <td>0.173755</td>\n",
       "      <td>0.079660</td>\n",
       "    </tr>\n",
       "    <tr>\n",
       "      <th>0</th>\n",
       "      <td>0.173158</td>\n",
       "      <td>0.079932</td>\n",
       "    </tr>\n",
       "    <tr>\n",
       "      <th>0</th>\n",
       "      <td>0.171843</td>\n",
       "      <td>0.079366</td>\n",
       "    </tr>\n",
       "    <tr>\n",
       "      <th>0</th>\n",
       "      <td>0.171202</td>\n",
       "      <td>0.079598</td>\n",
       "    </tr>\n",
       "    <tr>\n",
       "      <th>0</th>\n",
       "      <td>0.171796</td>\n",
       "      <td>0.079530</td>\n",
       "    </tr>\n",
       "    <tr>\n",
       "      <th>0</th>\n",
       "      <td>0.171889</td>\n",
       "      <td>0.079553</td>\n",
       "    </tr>\n",
       "  </tbody>\n",
       "</table>\n",
       "</div>"
      ],
      "text/plain": [
       "      gamma     kappa\n",
       "0  0.173755  0.079660\n",
       "0  0.173158  0.079932\n",
       "0  0.171843  0.079366\n",
       "0  0.171202  0.079598\n",
       "0  0.171796  0.079530\n",
       "0  0.171889  0.079553"
      ]
     },
     "execution_count": 15,
     "metadata": {},
     "output_type": "execute_result"
    }
   ],
   "source": [
    "gk = Scrambling(inputfile='test_cases/labmeeting_atm_b6.csv',\n",
    "           ref1=\"ATM\", ref2=\"B6\")\n",
    "gk.scrambling"
   ]
  },
  {
   "cell_type": "code",
   "execution_count": 16,
   "id": "98a5583e",
   "metadata": {},
   "outputs": [
    {
     "data": {
      "text/html": [
       "<div>\n",
       "<style scoped>\n",
       "    .dataframe tbody tr th:only-of-type {\n",
       "        vertical-align: middle;\n",
       "    }\n",
       "\n",
       "    .dataframe tbody tr th {\n",
       "        vertical-align: top;\n",
       "    }\n",
       "\n",
       "    .dataframe thead th {\n",
       "        text-align: right;\n",
       "    }\n",
       "</style>\n",
       "<table border=\"1\" class=\"dataframe\">\n",
       "  <thead>\n",
       "    <tr style=\"text-align: right;\">\n",
       "      <th></th>\n",
       "      <th>d15Na</th>\n",
       "      <th>d15Nb</th>\n",
       "      <th>SP</th>\n",
       "      <th>d15Nbulk</th>\n",
       "      <th>d17O</th>\n",
       "      <th>d18O</th>\n",
       "    </tr>\n",
       "  </thead>\n",
       "  <tbody>\n",
       "    <tr>\n",
       "      <th>0</th>\n",
       "      <td>14.753783</td>\n",
       "      <td>-3.080598</td>\n",
       "      <td>17.834382</td>\n",
       "      <td>5.836592</td>\n",
       "      <td>24.260426</td>\n",
       "      <td>47.551012</td>\n",
       "    </tr>\n",
       "    <tr>\n",
       "      <th>1</th>\n",
       "      <td>6.416391</td>\n",
       "      <td>-13.003401</td>\n",
       "      <td>19.419792</td>\n",
       "      <td>-3.293505</td>\n",
       "      <td>17.681347</td>\n",
       "      <td>34.550222</td>\n",
       "    </tr>\n",
       "    <tr>\n",
       "      <th>2</th>\n",
       "      <td>-0.658621</td>\n",
       "      <td>1.339940</td>\n",
       "      <td>-1.998561</td>\n",
       "      <td>0.340659</td>\n",
       "      <td>22.603664</td>\n",
       "      <td>44.269714</td>\n",
       "    </tr>\n",
       "    <tr>\n",
       "      <th>3</th>\n",
       "      <td>14.539848</td>\n",
       "      <td>-1.358155</td>\n",
       "      <td>15.898004</td>\n",
       "      <td>6.590846</td>\n",
       "      <td>24.352476</td>\n",
       "      <td>47.733469</td>\n",
       "    </tr>\n",
       "    <tr>\n",
       "      <th>4</th>\n",
       "      <td>6.202082</td>\n",
       "      <td>-12.920946</td>\n",
       "      <td>19.123028</td>\n",
       "      <td>-3.359432</td>\n",
       "      <td>17.780736</td>\n",
       "      <td>34.746038</td>\n",
       "    </tr>\n",
       "    <tr>\n",
       "      <th>5</th>\n",
       "      <td>-1.302643</td>\n",
       "      <td>-0.464958</td>\n",
       "      <td>-0.837685</td>\n",
       "      <td>-0.883801</td>\n",
       "      <td>21.594069</td>\n",
       "      <td>42.272605</td>\n",
       "    </tr>\n",
       "    <tr>\n",
       "      <th>6</th>\n",
       "      <td>15.640397</td>\n",
       "      <td>-5.112911</td>\n",
       "      <td>20.753308</td>\n",
       "      <td>5.263743</td>\n",
       "      <td>23.307978</td>\n",
       "      <td>45.664034</td>\n",
       "    </tr>\n",
       "    <tr>\n",
       "      <th>7</th>\n",
       "      <td>13.468613</td>\n",
       "      <td>-32.739736</td>\n",
       "      <td>46.208349</td>\n",
       "      <td>-9.635562</td>\n",
       "      <td>23.012068</td>\n",
       "      <td>45.078116</td>\n",
       "    </tr>\n",
       "    <tr>\n",
       "      <th>8</th>\n",
       "      <td>16.750490</td>\n",
       "      <td>-4.892692</td>\n",
       "      <td>21.643182</td>\n",
       "      <td>5.928899</td>\n",
       "      <td>23.171378</td>\n",
       "      <td>45.393539</td>\n",
       "    </tr>\n",
       "    <tr>\n",
       "      <th>9</th>\n",
       "      <td>6.542043</td>\n",
       "      <td>-13.648647</td>\n",
       "      <td>20.190690</td>\n",
       "      <td>-3.553302</td>\n",
       "      <td>17.047720</td>\n",
       "      <td>33.302274</td>\n",
       "    </tr>\n",
       "    <tr>\n",
       "      <th>10</th>\n",
       "      <td>-0.062893</td>\n",
       "      <td>0.330475</td>\n",
       "      <td>-0.393367</td>\n",
       "      <td>0.133791</td>\n",
       "      <td>22.459156</td>\n",
       "      <td>43.983745</td>\n",
       "    </tr>\n",
       "    <tr>\n",
       "      <th>11</th>\n",
       "      <td>14.037514</td>\n",
       "      <td>-3.940858</td>\n",
       "      <td>17.978372</td>\n",
       "      <td>5.048328</td>\n",
       "      <td>23.123566</td>\n",
       "      <td>45.298870</td>\n",
       "    </tr>\n",
       "    <tr>\n",
       "      <th>12</th>\n",
       "      <td>16.285056</td>\n",
       "      <td>-4.651710</td>\n",
       "      <td>20.936765</td>\n",
       "      <td>5.816673</td>\n",
       "      <td>23.703618</td>\n",
       "      <td>46.447671</td>\n",
       "    </tr>\n",
       "    <tr>\n",
       "      <th>13</th>\n",
       "      <td>6.624035</td>\n",
       "      <td>-13.948997</td>\n",
       "      <td>20.573033</td>\n",
       "      <td>-3.662481</td>\n",
       "      <td>17.560467</td>\n",
       "      <td>34.312088</td>\n",
       "    </tr>\n",
       "    <tr>\n",
       "      <th>14</th>\n",
       "      <td>12.876286</td>\n",
       "      <td>-26.709379</td>\n",
       "      <td>39.585665</td>\n",
       "      <td>-6.916547</td>\n",
       "      <td>22.706946</td>\n",
       "      <td>44.474125</td>\n",
       "    </tr>\n",
       "  </tbody>\n",
       "</table>\n",
       "</div>"
      ],
      "text/plain": [
       "        d15Na      d15Nb         SP  d15Nbulk       d17O       d18O\n",
       "0   14.753783  -3.080598  17.834382  5.836592  24.260426  47.551012\n",
       "1    6.416391 -13.003401  19.419792 -3.293505  17.681347  34.550222\n",
       "2   -0.658621   1.339940  -1.998561  0.340659  22.603664  44.269714\n",
       "3   14.539848  -1.358155  15.898004  6.590846  24.352476  47.733469\n",
       "4    6.202082 -12.920946  19.123028 -3.359432  17.780736  34.746038\n",
       "5   -1.302643  -0.464958  -0.837685 -0.883801  21.594069  42.272605\n",
       "6   15.640397  -5.112911  20.753308  5.263743  23.307978  45.664034\n",
       "7   13.468613 -32.739736  46.208349 -9.635562  23.012068  45.078116\n",
       "8   16.750490  -4.892692  21.643182  5.928899  23.171378  45.393539\n",
       "9    6.542043 -13.648647  20.190690 -3.553302  17.047720  33.302274\n",
       "10  -0.062893   0.330475  -0.393367  0.133791  22.459156  43.983745\n",
       "11  14.037514  -3.940858  17.978372  5.048328  23.123566  45.298870\n",
       "12  16.285056  -4.651710  20.936765  5.816673  23.703618  46.447671\n",
       "13   6.624035 -13.948997  20.573033 -3.662481  17.560467  34.312088\n",
       "14  12.876286 -26.709379  39.585665 -6.916547  22.706946  44.474125"
      ]
     },
     "execution_count": 16,
     "metadata": {},
     "output_type": "execute_result"
    }
   ],
   "source": [
    "deltavals = Isotopomers(inputfile = 'test_cases/labmeeting_isotopes.csv',\n",
    "            scrambling = gk.scrambling_mean)\n",
    "deltavals.deltavals"
   ]
  },
  {
   "cell_type": "code",
   "execution_count": 18,
   "id": "6fb7cbe5",
   "metadata": {},
   "outputs": [
    {
     "data": {
      "text/plain": [
       "array([[0.00376903, 0.00778503, 0.0021171 ],\n",
       "       [0.00373824, 0.0077154 , 0.00209074],\n",
       "       [0.0037228 , 0.00774399, 0.00211035],\n",
       "       [0.00376891, 0.00779061, 0.00211749],\n",
       "       [0.00373765, 0.00771495, 0.00209113],\n",
       "       [0.00371993, 0.00773461, 0.00210631],\n",
       "       [0.00377076, 0.00778046, 0.0021133 ],\n",
       "       [0.00375592, 0.00767079, 0.00211167],\n",
       "       [0.00377416, 0.0077853 , 0.00211277],\n",
       "       [0.0037382 , 0.00771325, 0.00208823],\n",
       "       [0.00372426, 0.00774242, 0.00210977],\n",
       "       [0.00376616, 0.0077788 , 0.00211256],\n",
       "       [0.00377301, 0.00778467, 0.00211489],\n",
       "       [0.00373855, 0.00771264, 0.00209025],\n",
       "       [0.00375578, 0.00769067, 0.00211054]])"
      ]
     },
     "execution_count": 18,
     "metadata": {},
     "output_type": "execute_result"
    }
   ],
   "source": [
    "deltavals.R"
   ]
  },
  {
   "cell_type": "markdown",
   "id": "3f8b033f",
   "metadata": {},
   "source": [
    "To learn about additional keyword arguments, including how to specify an output filename, adjust solver parameters, and view intermediate results, run the following cells:"
   ]
  },
  {
   "cell_type": "code",
   "execution_count": 19,
   "id": "acd08191",
   "metadata": {},
   "outputs": [],
   "source": [
    "?Scrambling"
   ]
  },
  {
   "cell_type": "code",
   "execution_count": 20,
   "id": "81b125a4",
   "metadata": {},
   "outputs": [],
   "source": [
    "?Isotopomers"
   ]
  },
  {
   "cell_type": "code",
   "execution_count": null,
   "id": "c38f74c8",
   "metadata": {},
   "outputs": [],
   "source": []
  }
 ],
 "metadata": {
  "kernelspec": {
   "display_name": "Python 3",
   "language": "python",
   "name": "python3"
  },
  "language_info": {
   "codemirror_mode": {
    "name": "ipython",
    "version": 3
   },
   "file_extension": ".py",
   "mimetype": "text/x-python",
   "name": "python",
   "nbconvert_exporter": "python",
   "pygments_lexer": "ipython3",
   "version": "3.9.2"
  }
 },
 "nbformat": 4,
 "nbformat_minor": 5
}
