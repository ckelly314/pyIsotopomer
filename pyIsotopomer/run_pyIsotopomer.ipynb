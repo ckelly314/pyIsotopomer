{
 "cells": [
  {
   "cell_type": "markdown",
   "id": "9024aad9",
   "metadata": {},
   "source": [
    "# pyIsotopomer\n",
    "\n",
    "pyIsotopomer is a Python toolbox for performing data corrections for N2O isotopomer data. Its core is a package of scripts to correct for scrambling in the ion source during isotope ratio mass spectrometry.\n",
    "\n",
    "# Basic use\n",
    "\n",
    "The import convention for pyIsotopomer is (hold down shift-enter to run the cell):"
   ]
  },
  {
   "cell_type": "code",
   "execution_count": 2,
   "id": "68587dfd",
   "metadata": {},
   "outputs": [],
   "source": [
    "from pyIsotopomer import Scrambling, Isotopomers"
   ]
  },
  {
   "cell_type": "markdown",
   "id": "1392413f",
   "metadata": {},
   "source": [
    "To calculate scrambling coefficients, the only function you need is:"
   ]
  },
  {
   "cell_type": "code",
   "execution_count": 3,
   "id": "acd99e65",
   "metadata": {},
   "outputs": [],
   "source": [
    "gk = Scrambling(inputfile='example_scrambling_input.csv',\n",
    "                ref1=\"ATM\", ref2=\"S2\")"
   ]
  },
  {
   "cell_type": "markdown",
   "id": "49031041",
   "metadata": {},
   "source": [
    "To calculate isotopocules, the only function you need is:"
   ]
  },
  {
   "cell_type": "code",
   "execution_count": 4,
   "id": "1f3609e2",
   "metadata": {},
   "outputs": [],
   "source": [
    "deltavals = Isotopomers(inputfile = 'example_isotopomer_input.csv',\n",
    "                        scrambling = [0.172, 0.0798])"
   ]
  },
  {
   "cell_type": "markdown",
   "id": "7851670d",
   "metadata": {},
   "source": [
    "For an explanation of the keyword arguments for each function, run the following cells:"
   ]
  },
  {
   "cell_type": "code",
   "execution_count": 5,
   "id": "cd1b1430",
   "metadata": {},
   "outputs": [],
   "source": [
    "?Scrambling"
   ]
  },
  {
   "cell_type": "code",
   "execution_count": 6,
   "id": "a91159a5",
   "metadata": {},
   "outputs": [],
   "source": [
    "?Isotopomers"
   ]
  },
  {
   "cell_type": "markdown",
   "id": "a99ad63f",
   "metadata": {},
   "source": [
    "# View the results\n",
    "\n",
    "Your scrambling output will be automatically saved to the same directory as the input data, with the file naming convention \"YYMMDD_scramblingoutput.csv\". Likewise, your isotopocule output will be automatically saved with the file naming convention \"YYMMDD_isotopeoutput.csv\". You can also view the output of each function directly in Jupyter by running the following cells:"
   ]
  },
  {
   "cell_type": "code",
   "execution_count": 8,
   "id": "495c9397",
   "metadata": {},
   "outputs": [
    {
     "data": {
      "text/html": [
       "<div>\n",
       "<style scoped>\n",
       "    .dataframe tbody tr th:only-of-type {\n",
       "        vertical-align: middle;\n",
       "    }\n",
       "\n",
       "    .dataframe tbody tr th {\n",
       "        vertical-align: top;\n",
       "    }\n",
       "\n",
       "    .dataframe thead th {\n",
       "        text-align: right;\n",
       "    }\n",
       "</style>\n",
       "<table border=\"1\" class=\"dataframe\">\n",
       "  <thead>\n",
       "    <tr style=\"text-align: right;\">\n",
       "      <th></th>\n",
       "      <th>gamma</th>\n",
       "      <th>kappa</th>\n",
       "    </tr>\n",
       "  </thead>\n",
       "  <tbody>\n",
       "    <tr>\n",
       "      <th>0</th>\n",
       "      <td>0.173154</td>\n",
       "      <td>0.079699</td>\n",
       "    </tr>\n",
       "    <tr>\n",
       "      <th>0</th>\n",
       "      <td>0.173172</td>\n",
       "      <td>0.079698</td>\n",
       "    </tr>\n",
       "    <tr>\n",
       "      <th>0</th>\n",
       "      <td>0.171669</td>\n",
       "      <td>0.079832</td>\n",
       "    </tr>\n",
       "    <tr>\n",
       "      <th>0</th>\n",
       "      <td>0.171687</td>\n",
       "      <td>0.079830</td>\n",
       "    </tr>\n",
       "    <tr>\n",
       "      <th>0</th>\n",
       "      <td>0.171594</td>\n",
       "      <td>0.079843</td>\n",
       "    </tr>\n",
       "    <tr>\n",
       "      <th>0</th>\n",
       "      <td>0.171477</td>\n",
       "      <td>0.079855</td>\n",
       "    </tr>\n",
       "    <tr>\n",
       "      <th>0</th>\n",
       "      <td>0.171659</td>\n",
       "      <td>0.079838</td>\n",
       "    </tr>\n",
       "    <tr>\n",
       "      <th>0</th>\n",
       "      <td>0.171542</td>\n",
       "      <td>0.079850</td>\n",
       "    </tr>\n",
       "  </tbody>\n",
       "</table>\n",
       "</div>"
      ],
      "text/plain": [
       "      gamma     kappa\n",
       "0  0.173154  0.079699\n",
       "0  0.173172  0.079698\n",
       "0  0.171669  0.079832\n",
       "0  0.171687  0.079830\n",
       "0  0.171594  0.079843\n",
       "0  0.171477  0.079855\n",
       "0  0.171659  0.079838\n",
       "0  0.171542  0.079850"
      ]
     },
     "execution_count": 8,
     "metadata": {},
     "output_type": "execute_result"
    }
   ],
   "source": [
    "gk.scrambling"
   ]
  },
  {
   "cell_type": "code",
   "execution_count": 9,
   "id": "6c3d99db",
   "metadata": {},
   "outputs": [
    {
     "data": {
      "text/html": [
       "<div>\n",
       "<style scoped>\n",
       "    .dataframe tbody tr th:only-of-type {\n",
       "        vertical-align: middle;\n",
       "    }\n",
       "\n",
       "    .dataframe tbody tr th {\n",
       "        vertical-align: top;\n",
       "    }\n",
       "\n",
       "    .dataframe thead th {\n",
       "        text-align: right;\n",
       "    }\n",
       "</style>\n",
       "<table border=\"1\" class=\"dataframe\">\n",
       "  <thead>\n",
       "    <tr style=\"text-align: right;\">\n",
       "      <th></th>\n",
       "      <th>d15Na</th>\n",
       "      <th>d15Nb</th>\n",
       "      <th>SP</th>\n",
       "      <th>d15Nbulk</th>\n",
       "      <th>d17O</th>\n",
       "      <th>d18O</th>\n",
       "    </tr>\n",
       "  </thead>\n",
       "  <tbody>\n",
       "    <tr>\n",
       "      <th>0</th>\n",
       "      <td>14.125181</td>\n",
       "      <td>-2.451993</td>\n",
       "      <td>16.577174</td>\n",
       "      <td>5.836594</td>\n",
       "      <td>24.260388</td>\n",
       "      <td>47.550937</td>\n",
       "    </tr>\n",
       "    <tr>\n",
       "      <th>1</th>\n",
       "      <td>5.793064</td>\n",
       "      <td>-12.380070</td>\n",
       "      <td>18.173134</td>\n",
       "      <td>-3.293503</td>\n",
       "      <td>17.681307</td>\n",
       "      <td>34.550143</td>\n",
       "    </tr>\n",
       "    <tr>\n",
       "      <th>2</th>\n",
       "      <td>-1.283008</td>\n",
       "      <td>1.964326</td>\n",
       "      <td>-3.247334</td>\n",
       "      <td>0.340659</td>\n",
       "      <td>22.603669</td>\n",
       "      <td>44.269725</td>\n",
       "    </tr>\n",
       "    <tr>\n",
       "      <th>3</th>\n",
       "      <td>13.910549</td>\n",
       "      <td>-0.728853</td>\n",
       "      <td>14.639402</td>\n",
       "      <td>6.590848</td>\n",
       "      <td>24.352444</td>\n",
       "      <td>47.733404</td>\n",
       "    </tr>\n",
       "    <tr>\n",
       "      <th>4</th>\n",
       "      <td>5.578814</td>\n",
       "      <td>-12.297673</td>\n",
       "      <td>17.876487</td>\n",
       "      <td>-3.359430</td>\n",
       "      <td>17.780696</td>\n",
       "      <td>34.745960</td>\n",
       "    </tr>\n",
       "    <tr>\n",
       "      <th>5</th>\n",
       "      <td>-1.926331</td>\n",
       "      <td>0.158730</td>\n",
       "      <td>-2.085061</td>\n",
       "      <td>-0.883801</td>\n",
       "      <td>21.594072</td>\n",
       "      <td>42.272611</td>\n",
       "    </tr>\n",
       "    <tr>\n",
       "      <th>6</th>\n",
       "      <td>15.011674</td>\n",
       "      <td>-4.484185</td>\n",
       "      <td>19.495859</td>\n",
       "      <td>5.263745</td>\n",
       "      <td>23.307940</td>\n",
       "      <td>45.663959</td>\n",
       "    </tr>\n",
       "    <tr>\n",
       "      <th>7</th>\n",
       "      <td>12.847735</td>\n",
       "      <td>-32.118848</td>\n",
       "      <td>44.966583</td>\n",
       "      <td>-9.635557</td>\n",
       "      <td>23.011972</td>\n",
       "      <td>45.077925</td>\n",
       "    </tr>\n",
       "    <tr>\n",
       "      <th>8</th>\n",
       "      <td>16.121682</td>\n",
       "      <td>-4.263879</td>\n",
       "      <td>20.385561</td>\n",
       "      <td>5.928901</td>\n",
       "      <td>23.171331</td>\n",
       "      <td>45.393446</td>\n",
       "    </tr>\n",
       "    <tr>\n",
       "      <th>9</th>\n",
       "      <td>5.918835</td>\n",
       "      <td>-13.025435</td>\n",
       "      <td>18.944270</td>\n",
       "      <td>-3.553300</td>\n",
       "      <td>17.047678</td>\n",
       "      <td>33.302191</td>\n",
       "    </tr>\n",
       "    <tr>\n",
       "      <th>10</th>\n",
       "      <td>-0.687241</td>\n",
       "      <td>0.954823</td>\n",
       "      <td>-1.642064</td>\n",
       "      <td>0.133791</td>\n",
       "      <td>22.459158</td>\n",
       "      <td>43.983750</td>\n",
       "    </tr>\n",
       "    <tr>\n",
       "      <th>11</th>\n",
       "      <td>13.409088</td>\n",
       "      <td>-3.312428</td>\n",
       "      <td>16.721516</td>\n",
       "      <td>5.048330</td>\n",
       "      <td>23.123533</td>\n",
       "      <td>45.298804</td>\n",
       "    </tr>\n",
       "    <tr>\n",
       "      <th>12</th>\n",
       "      <td>15.656403</td>\n",
       "      <td>-4.023053</td>\n",
       "      <td>19.679456</td>\n",
       "      <td>5.816675</td>\n",
       "      <td>23.703573</td>\n",
       "      <td>46.447581</td>\n",
       "    </tr>\n",
       "    <tr>\n",
       "      <th>13</th>\n",
       "      <td>6.000874</td>\n",
       "      <td>-13.325831</td>\n",
       "      <td>19.326706</td>\n",
       "      <td>-3.662479</td>\n",
       "      <td>17.560424</td>\n",
       "      <td>34.312005</td>\n",
       "    </tr>\n",
       "    <tr>\n",
       "      <th>14</th>\n",
       "      <td>12.254084</td>\n",
       "      <td>-26.087169</td>\n",
       "      <td>38.341253</td>\n",
       "      <td>-6.916543</td>\n",
       "      <td>22.706863</td>\n",
       "      <td>44.473960</td>\n",
       "    </tr>\n",
       "  </tbody>\n",
       "</table>\n",
       "</div>"
      ],
      "text/plain": [
       "        d15Na      d15Nb         SP  d15Nbulk       d17O       d18O\n",
       "0   14.125181  -2.451993  16.577174  5.836594  24.260388  47.550937\n",
       "1    5.793064 -12.380070  18.173134 -3.293503  17.681307  34.550143\n",
       "2   -1.283008   1.964326  -3.247334  0.340659  22.603669  44.269725\n",
       "3   13.910549  -0.728853  14.639402  6.590848  24.352444  47.733404\n",
       "4    5.578814 -12.297673  17.876487 -3.359430  17.780696  34.745960\n",
       "5   -1.926331   0.158730  -2.085061 -0.883801  21.594072  42.272611\n",
       "6   15.011674  -4.484185  19.495859  5.263745  23.307940  45.663959\n",
       "7   12.847735 -32.118848  44.966583 -9.635557  23.011972  45.077925\n",
       "8   16.121682  -4.263879  20.385561  5.928901  23.171331  45.393446\n",
       "9    5.918835 -13.025435  18.944270 -3.553300  17.047678  33.302191\n",
       "10  -0.687241   0.954823  -1.642064  0.133791  22.459158  43.983750\n",
       "11  13.409088  -3.312428  16.721516  5.048330  23.123533  45.298804\n",
       "12  15.656403  -4.023053  19.679456  5.816675  23.703573  46.447581\n",
       "13   6.000874 -13.325831  19.326706 -3.662479  17.560424  34.312005\n",
       "14  12.254084 -26.087169  38.341253 -6.916543  22.706863  44.473960"
      ]
     },
     "execution_count": 9,
     "metadata": {},
     "output_type": "execute_result"
    }
   ],
   "source": [
    "deltavals.deltavals"
   ]
  },
  {
   "cell_type": "markdown",
   "id": "7af31444",
   "metadata": {},
   "source": [
    "To learn about additional keyword arguments, including how to specify an output filename, adjust solver parameters, and view intermediate results, run the following cells:"
   ]
  },
  {
   "cell_type": "code",
   "execution_count": 10,
   "id": "948048c9",
   "metadata": {},
   "outputs": [],
   "source": [
    "?Scrambling"
   ]
  },
  {
   "cell_type": "code",
   "execution_count": 11,
   "id": "21c05b9f",
   "metadata": {},
   "outputs": [],
   "source": [
    "?Isotopomers"
   ]
  },
  {
   "cell_type": "code",
   "execution_count": null,
   "id": "48a711d5",
   "metadata": {},
   "outputs": [],
   "source": []
  }
 ],
 "metadata": {
  "kernelspec": {
   "display_name": "Python 3",
   "language": "python",
   "name": "python3"
  },
  "language_info": {
   "codemirror_mode": {
    "name": "ipython",
    "version": 3
   },
   "file_extension": ".py",
   "mimetype": "text/x-python",
   "name": "python",
   "nbconvert_exporter": "python",
   "pygments_lexer": "ipython3",
   "version": "3.9.2"
  }
 },
 "nbformat": 4,
 "nbformat_minor": 5
}
